{
 "cells": [
  {
   "cell_type": "markdown",
   "id": "eed9246b",
   "metadata": {},
   "source": [
    "# Import modules and define functions"
   ]
  },
  {
   "cell_type": "code",
   "execution_count": 1,
   "id": "7e864db4",
   "metadata": {},
   "outputs": [],
   "source": [
    "# import modules\n",
    "from io import BytesIO\n",
    "import requests\n",
    "import pandas as pd\n",
    "from arcgis.features import FeatureLayer\n",
    "from arcgis.gis import GIS\n",
    "from arcgis.mapping import WebMap\n",
    "from arcgis.gis import GIS"
   ]
  },
  {
   "cell_type": "code",
   "execution_count": 2,
   "id": "018c6b70",
   "metadata": {},
   "outputs": [],
   "source": [
    "# The client_id used for this project\n",
    "client_id=\"D6mmWslBBmHA1RuS\""
   ]
  },
  {
   "cell_type": "code",
   "execution_count": 3,
   "id": "c27e6012",
   "metadata": {},
   "outputs": [],
   "source": [
    "def connect_to_GIS(client_id=\"D6mmWslBBmHA1RuS\"):\n",
    "    '''\n",
    "    This function connects to a GIS server and returns an active connection into a connection variable.\n",
    "    Input variable:\n",
    "        client_id: optional; default is \"D6mmWslBBmHA1RuS\"\n",
    "    '''\n",
    "    try:\n",
    "        gis = GIS(\"https://utoronto.maps.arcgis.com\",client_id=\"D6mmWslBBmHA1RuS\", verify_cert=False)\n",
    "        print(\"Successfully logged in as: \" + gis.properties.user.username)\n",
    "    except:\n",
    "        print(\"Connection error: please check your client_id and internet connection\")\n",
    "    return gis"
   ]
  },
  {
   "cell_type": "code",
   "execution_count": 4,
   "id": "6df30dfb",
   "metadata": {},
   "outputs": [],
   "source": [
    "def get_atlas_dataset(map_id:str, layer:int):\n",
    "    '''\n",
    "    Get GIS atlas map dataset. \n",
    "    Input variables:\n",
    "        map_id: str; ID of the atlas map\n",
    "        layer: int; the layer number interested\n",
    "    '''\n",
    "    try:\n",
    "        subjects_item = gis.content.get(map_id)\n",
    "    except:\n",
    "        print(\"Error: The id is not valid or the connection has been lost. Please try reconnecting to the server.\")\n",
    "    try:    \n",
    "        subjects_flayer = subjects_item.layers[layer]\n",
    "        subjects_df = subjects_flayer.query(as_df=True)\n",
    "        return subjects_df\n",
    "    except:\n",
    "        print(\"Error: Please ensure the layer number is valid for the map.\")"
   ]
  },
  {
   "cell_type": "code",
   "execution_count": 5,
   "id": "455e3416",
   "metadata": {},
   "outputs": [],
   "source": [
    "def filter_country(df_global, country_name:str):\n",
    "    '''\n",
    "    Filter the global covid dataset based on country name.\n",
    "    Input variables:\n",
    "        df_global: the global covid dataset\n",
    "        country_name: str; name of the country interested\n",
    "    '''\n",
    "    try: \n",
    "        fset_country = df_global[df_global['Country_Region']==country_name]\n",
    "        if len(fset_country) == 0:\n",
    "            raise Exception(\"The country_name is not valid\")\n",
    "        return fset_country\n",
    "    except:\n",
    "        print(\"Error: Check whether the global covid dataset is correct.\")"
   ]
  },
  {
   "cell_type": "code",
   "execution_count": 6,
   "id": "fce56367",
   "metadata": {},
   "outputs": [],
   "source": [
    "def merge_atlas_and_covid_datasets(fset_country, subjects_df, how:str):\n",
    "    '''\n",
    "    Merges the Atlas and Covid datasets.\n",
    "    Input variables:\n",
    "        fset_country: the covid dataset filtered based on country\n",
    "        subjects_df: the Atlas map dataset\n",
    "        how: the type of joins to make\n",
    "    '''\n",
    "    try:\n",
    "        country_merged = pd.merge(fset_country, subjects_df[['NAME', 'SHAPE']], left_on = \"Province_State\", \\\n",
    "                             right_on='NAME', how=how)\n",
    "        country_merged = country_merged.drop(['SHAPE_x'], axis=1).rename(columns={\"SHAPE_y\": \"SHAPE\"})\n",
    "        return country_merged\n",
    "    except:\n",
    "        print(\"Error: Check the column names. Country dataset must have 'Province_State'\" \\\n",
    "              \" Atlas dataset must have 'NAME' and 'SHAPE'.\")"
   ]
  },
  {
   "cell_type": "code",
   "execution_count": 7,
   "id": "22c40589",
   "metadata": {},
   "outputs": [],
   "source": [
    "def make_map(country_name:str, merged_dataset, zoom_lvl=4, class_count = 7, legend = False):\n",
    "    '''\n",
    "    Makes the map for selected country.\n",
    "    Input variables:\n",
    "        country_name: the country of interest\n",
    "        merged_dataset: merged dataset for the country\n",
    "        zoom_lvl: optional; zoom level of the map; default is 4\n",
    "        class_count: optional; class count of the map; default is 7\n",
    "        legend: optional; whether to display the legend of the map; boolean value; default is False\n",
    "    '''\n",
    "    try:\n",
    "        gis_map = gis.map(country_name, zoomlevel=4)\n",
    "    except:\n",
    "        print(\"Error: Check server connection\")\n",
    "        return\n",
    "    try:\n",
    "        merged_dataset.spatial.plot(  kind='map', map_widget=gis_map,\n",
    "                                 renderer_type='c',  # for class breaks renderer\n",
    "                                 method='esriClassifyStandardDeviation',  # classification algorithm\n",
    "                                 class_count=class_count,  # choose the number of classes\n",
    "                                 col='Confirmed',  # numeric column to classify\n",
    "                                 cmap='inferno',  # color map to pick colors from for each class\n",
    "                                 alpha=0.7  # specify opacity\n",
    "                                )\n",
    "        gis_map.legend = legend\n",
    "        return gis_map\n",
    "    except:\n",
    "        print(\"Error: Map plot failure. Check dataset validity\")\n",
    "        return"
   ]
  },
  {
   "cell_type": "code",
   "execution_count": 8,
   "id": "e4036c18",
   "metadata": {},
   "outputs": [],
   "source": [
    "def plot_cases(merged_dataset):\n",
    "    '''\n",
    "    Makes bar plot for 'Confirmed','Deaths', 'Recovered' of the selected country.\n",
    "    Input variables:\n",
    "        merged_dataset: the merged dataset of the country of interest\n",
    "    '''\n",
    "    try:\n",
    "        plot = merged_dataset.set_index(\"Province_State\")[['Confirmed','Deaths', 'Recovered']].plot.bar()\n",
    "        return plot\n",
    "    except:\n",
    "        print(\"Error: Plot failure. Check dataset\")"
   ]
  },
  {
   "cell_type": "markdown",
   "id": "dfaa7726",
   "metadata": {},
   "source": [
    "## 0. Connect to the GIS server and obtain COVID dataset"
   ]
  },
  {
   "cell_type": "code",
   "execution_count": 9,
   "id": "79ff5d09",
   "metadata": {},
   "outputs": [
    {
     "name": "stdout",
     "output_type": "stream",
     "text": [
      "Please sign in to your GIS and paste the code that is obtained below.\n",
      "If a web browser does not automatically open, please navigate to the URL below yourself instead.\n",
      "Opening web browser to navigate to: https://utoronto.maps.arcgis.com/sharing/rest/oauth2/authorize?response_type=code&client_id=D6mmWslBBmHA1RuS&redirect_uri=urn%3Aietf%3Awg%3Aoauth%3A2.0%3Aoob&state=dQEfCIHdw5xYOFd1FvF7gqJV2vO7Wo&allow_verification=false\n",
      "Enter code obtained on signing in using SAML: ········\n",
      "Successfully logged in as: yangch53_utoronto\n"
     ]
    }
   ],
   "source": [
    "# Connects to a GIS server\n",
    "gis = connect_to_GIS()"
   ]
  },
  {
   "cell_type": "code",
   "execution_count": 10,
   "id": "b0b894e4",
   "metadata": {},
   "outputs": [],
   "source": [
    "# Access Coronavirus COVID-19 (2019-nCoV) ArcGIS Dashboard created by the CSSE Team \n",
    "item = gis.content.search(\"Coronavirus_2019_nCoV_Cases owner:CSSE_covid19\", outside_org=True)[0]\n",
    "src_url = \"https://services1.arcgis.com/0MSEUqKaxRlEPj5g/arcgis/rest/services/Coronavirus_2019_nCoV_Cases/FeatureServer/1\"\n",
    "fl = FeatureLayer(url=src_url)"
   ]
  },
  {
   "cell_type": "code",
   "execution_count": 11,
   "id": "227b3d63",
   "metadata": {},
   "outputs": [],
   "source": [
    "# Take the whole covid dataset and store it in df_global\n",
    "df_global = fl.query(where=\"1=1\", return_geometry=True, as_df=True)"
   ]
  },
  {
   "cell_type": "markdown",
   "id": "a3e3ba5b",
   "metadata": {},
   "source": [
    "## 1. Visualization for Australia"
   ]
  },
  {
   "cell_type": "code",
   "execution_count": 12,
   "id": "ab600b34",
   "metadata": {},
   "outputs": [
    {
     "data": {
      "text/html": [
       "<div>\n",
       "<style scoped>\n",
       "    .dataframe tbody tr th:only-of-type {\n",
       "        vertical-align: middle;\n",
       "    }\n",
       "\n",
       "    .dataframe tbody tr th {\n",
       "        vertical-align: top;\n",
       "    }\n",
       "\n",
       "    .dataframe thead th {\n",
       "        text-align: right;\n",
       "    }\n",
       "</style>\n",
       "<table border=\"1\" class=\"dataframe\">\n",
       "  <thead>\n",
       "    <tr style=\"text-align: right;\">\n",
       "      <th></th>\n",
       "      <th>OBJECTID</th>\n",
       "      <th>Province_State</th>\n",
       "      <th>Country_Region</th>\n",
       "      <th>Last_Update</th>\n",
       "      <th>Lat</th>\n",
       "      <th>Long_</th>\n",
       "      <th>Confirmed</th>\n",
       "      <th>Recovered</th>\n",
       "      <th>Deaths</th>\n",
       "      <th>Active</th>\n",
       "      <th>Admin2</th>\n",
       "      <th>FIPS</th>\n",
       "      <th>Combined_Key</th>\n",
       "      <th>NAME</th>\n",
       "      <th>SHAPE</th>\n",
       "    </tr>\n",
       "  </thead>\n",
       "  <tbody>\n",
       "    <tr>\n",
       "      <th>0</th>\n",
       "      <td>10</td>\n",
       "      <td>Australian Capital Territory</td>\n",
       "      <td>Australia</td>\n",
       "      <td>2022-09-11 05:20:45</td>\n",
       "      <td>-35.4735</td>\n",
       "      <td>149.0124</td>\n",
       "      <td>203680</td>\n",
       "      <td>0</td>\n",
       "      <td>125</td>\n",
       "      <td>0</td>\n",
       "      <td>None</td>\n",
       "      <td>None</td>\n",
       "      <td>Australian Capital Territory, Australia</td>\n",
       "      <td>Australian Capital Territory</td>\n",
       "      <td>{\"rings\": [[[16600879.9624, -4181065.9785], [1...</td>\n",
       "    </tr>\n",
       "    <tr>\n",
       "      <th>1</th>\n",
       "      <td>11</td>\n",
       "      <td>New South Wales</td>\n",
       "      <td>Australia</td>\n",
       "      <td>2022-09-11 05:20:45</td>\n",
       "      <td>-33.8688</td>\n",
       "      <td>151.2093</td>\n",
       "      <td>3463759</td>\n",
       "      <td>0</td>\n",
       "      <td>5046</td>\n",
       "      <td>0</td>\n",
       "      <td>None</td>\n",
       "      <td>None</td>\n",
       "      <td>New South Wales, Australia</td>\n",
       "      <td>New South Wales</td>\n",
       "      <td>{\"rings\": [[[16703645.1077, -4475853.0507], [1...</td>\n",
       "    </tr>\n",
       "    <tr>\n",
       "      <th>2</th>\n",
       "      <td>12</td>\n",
       "      <td>Northern Territory</td>\n",
       "      <td>Australia</td>\n",
       "      <td>2022-09-11 05:20:45</td>\n",
       "      <td>-12.4634</td>\n",
       "      <td>130.8456</td>\n",
       "      <td>96447</td>\n",
       "      <td>0</td>\n",
       "      <td>70</td>\n",
       "      <td>0</td>\n",
       "      <td>None</td>\n",
       "      <td>None</td>\n",
       "      <td>Northern Territory, Australia</td>\n",
       "      <td>Northern Territory</td>\n",
       "      <td>{\"rings\": [[[15259049.6029, -1788024.0168], [1...</td>\n",
       "    </tr>\n",
       "    <tr>\n",
       "      <th>3</th>\n",
       "      <td>13</td>\n",
       "      <td>Queensland</td>\n",
       "      <td>Australia</td>\n",
       "      <td>2022-09-11 05:20:45</td>\n",
       "      <td>-27.4698</td>\n",
       "      <td>153.0251</td>\n",
       "      <td>1620034</td>\n",
       "      <td>0</td>\n",
       "      <td>2048</td>\n",
       "      <td>0</td>\n",
       "      <td>None</td>\n",
       "      <td>None</td>\n",
       "      <td>Queensland, Australia</td>\n",
       "      <td>Queensland</td>\n",
       "      <td>{\"rings\": [[[17077774.7245, -3240314.4403], [1...</td>\n",
       "    </tr>\n",
       "    <tr>\n",
       "      <th>4</th>\n",
       "      <td>14</td>\n",
       "      <td>South Australia</td>\n",
       "      <td>Australia</td>\n",
       "      <td>2022-09-11 05:20:45</td>\n",
       "      <td>-34.9285</td>\n",
       "      <td>138.6007</td>\n",
       "      <td>758840</td>\n",
       "      <td>0</td>\n",
       "      <td>860</td>\n",
       "      <td>0</td>\n",
       "      <td>None</td>\n",
       "      <td>None</td>\n",
       "      <td>South Australia, Australia</td>\n",
       "      <td>South Australia</td>\n",
       "      <td>{\"rings\": [[[15658300.314, -4588263.1137], [15...</td>\n",
       "    </tr>\n",
       "  </tbody>\n",
       "</table>\n",
       "</div>"
      ],
      "text/plain": [
       "   OBJECTID                Province_State Country_Region         Last_Update  \\\n",
       "0        10  Australian Capital Territory      Australia 2022-09-11 05:20:45   \n",
       "1        11               New South Wales      Australia 2022-09-11 05:20:45   \n",
       "2        12            Northern Territory      Australia 2022-09-11 05:20:45   \n",
       "3        13                    Queensland      Australia 2022-09-11 05:20:45   \n",
       "4        14               South Australia      Australia 2022-09-11 05:20:45   \n",
       "\n",
       "       Lat     Long_  Confirmed  Recovered  Deaths  Active Admin2  FIPS  \\\n",
       "0 -35.4735  149.0124     203680          0     125       0   None  None   \n",
       "1 -33.8688  151.2093    3463759          0    5046       0   None  None   \n",
       "2 -12.4634  130.8456      96447          0      70       0   None  None   \n",
       "3 -27.4698  153.0251    1620034          0    2048       0   None  None   \n",
       "4 -34.9285  138.6007     758840          0     860       0   None  None   \n",
       "\n",
       "                              Combined_Key                          NAME  \\\n",
       "0  Australian Capital Territory, Australia  Australian Capital Territory   \n",
       "1               New South Wales, Australia               New South Wales   \n",
       "2            Northern Territory, Australia            Northern Territory   \n",
       "3                    Queensland, Australia                    Queensland   \n",
       "4               South Australia, Australia               South Australia   \n",
       "\n",
       "                                               SHAPE  \n",
       "0  {\"rings\": [[[16600879.9624, -4181065.9785], [1...  \n",
       "1  {\"rings\": [[[16703645.1077, -4475853.0507], [1...  \n",
       "2  {\"rings\": [[[15259049.6029, -1788024.0168], [1...  \n",
       "3  {\"rings\": [[[17077774.7245, -3240314.4403], [1...  \n",
       "4  {\"rings\": [[[15658300.314, -4588263.1137], [15...  "
      ]
     },
     "execution_count": 12,
     "metadata": {},
     "output_type": "execute_result"
    }
   ],
   "source": [
    "country_name = \"Australia\"                                            # set country name\n",
    "AU_df = get_atlas_dataset(\"1eb0511ee53a47b386e98e9c4663127b\", 2)      # get the Atlas map from GIS for \n",
    "fset_AU = filter_country(df_global, country_name)                     # filter the covid dataset based on the country\n",
    "AU_merged = merge_atlas_and_covid_datasets(fset_AU, AU_df, \"left\")    # merge the covid dataset with the Atlas map dataset\n",
    "AU_merged.head(5)"
   ]
  },
  {
   "cell_type": "code",
   "execution_count": 13,
   "id": "f8f22503",
   "metadata": {},
   "outputs": [
    {
     "data": {
      "application/vnd.jupyter.widget-view+json": {
       "model_id": "b55272ff97854a20b53f997949e25922",
       "version_major": 2,
       "version_minor": 0
      },
      "text/plain": [
       "MapView(layout=Layout(height='400px', width='100%'))"
      ]
     },
     "metadata": {},
     "output_type": "display_data"
    },
    {
     "data": {
      "text/html": [
       "<div class=\"map-static-img-preview-c9f3196d-5f05-42ec-a921-9660fd785ba6\"><img src=\"\"></img></div>"
      ],
      "text/plain": [
       "<IPython.core.display.HTML object>"
      ]
     },
     "metadata": {},
     "output_type": "display_data"
    },
    {
     "data": {
      "text/html": [
       "<div class=\"map-html-embed-preview-c9f3196d-5f05-42ec-a921-9660fd785ba6\"></div>"
      ],
      "text/plain": [
       "<IPython.core.display.HTML object>"
      ]
     },
     "metadata": {},
     "output_type": "display_data"
    }
   ],
   "source": [
    "# Makes the map\n",
    "make_map(country_name, AU_merged)"
   ]
  },
  {
   "cell_type": "code",
   "execution_count": 14,
   "id": "db8f8d77",
   "metadata": {},
   "outputs": [
    {
     "data": {
      "text/plain": [
       "<AxesSubplot:xlabel='Province_State'>"
      ]
     },
     "execution_count": 14,
     "metadata": {},
     "output_type": "execute_result"
    },
    {
     "data": {
      "image/png": "[encoded data removed]",
      "text/plain": [
       "<Figure size 432x288 with 1 Axes>"
      ]
     },
     "metadata": {
      "needs_background": "light"
     },
     "output_type": "display_data"
    }
   ],
   "source": [
    "# Plot the confirmed, deaths, Recovered covid cases for the country\n",
    "plot_cases(AU_merged)"
   ]
  },
  {
   "cell_type": "markdown",
   "id": "1c670ac6",
   "metadata": {},
   "source": [
    "## 2. Visualization for UK"
   ]
  },
  {
   "cell_type": "code",
   "execution_count": 15,
   "id": "f16e08d6",
   "metadata": {
    "scrolled": true
   },
   "outputs": [
    {
     "data": {
      "text/html": [
       "<div>\n",
       "<style scoped>\n",
       "    .dataframe tbody tr th:only-of-type {\n",
       "        vertical-align: middle;\n",
       "    }\n",
       "\n",
       "    .dataframe tbody tr th {\n",
       "        vertical-align: top;\n",
       "    }\n",
       "\n",
       "    .dataframe thead th {\n",
       "        text-align: right;\n",
       "    }\n",
       "</style>\n",
       "<table border=\"1\" class=\"dataframe\">\n",
       "  <thead>\n",
       "    <tr style=\"text-align: right;\">\n",
       "      <th></th>\n",
       "      <th>OBJECTID</th>\n",
       "      <th>Province_State</th>\n",
       "      <th>Country_Region</th>\n",
       "      <th>Last_Update</th>\n",
       "      <th>Lat</th>\n",
       "      <th>Long_</th>\n",
       "      <th>Confirmed</th>\n",
       "      <th>Recovered</th>\n",
       "      <th>Deaths</th>\n",
       "      <th>Active</th>\n",
       "      <th>Admin2</th>\n",
       "      <th>FIPS</th>\n",
       "      <th>Combined_Key</th>\n",
       "      <th>NAME</th>\n",
       "      <th>SHAPE</th>\n",
       "    </tr>\n",
       "  </thead>\n",
       "  <tbody>\n",
       "    <tr>\n",
       "      <th>0</th>\n",
       "      <td>711</td>\n",
       "      <td>England</td>\n",
       "      <td>United Kingdom</td>\n",
       "      <td>2022-09-11 05:20:45</td>\n",
       "      <td>52.3555</td>\n",
       "      <td>-1.1743</td>\n",
       "      <td>19861556</td>\n",
       "      <td>0</td>\n",
       "      <td>174576</td>\n",
       "      <td>0</td>\n",
       "      <td>None</td>\n",
       "      <td>None</td>\n",
       "      <td>England, United Kingdom</td>\n",
       "      <td>England</td>\n",
       "      <td>{\"rings\": [[[-712342.122900002, 6422971.613], ...</td>\n",
       "    </tr>\n",
       "    <tr>\n",
       "      <th>1</th>\n",
       "      <td>718</td>\n",
       "      <td>Northern Ireland</td>\n",
       "      <td>United Kingdom</td>\n",
       "      <td>2022-09-11 05:20:45</td>\n",
       "      <td>54.7877</td>\n",
       "      <td>-6.4923</td>\n",
       "      <td>713294</td>\n",
       "      <td>0</td>\n",
       "      <td>4831</td>\n",
       "      <td>0</td>\n",
       "      <td>None</td>\n",
       "      <td>None</td>\n",
       "      <td>Northern Ireland, United Kingdom</td>\n",
       "      <td>Northern Ireland</td>\n",
       "      <td>{\"rings\": [[[-629256.726300001, 7241326.3225],...</td>\n",
       "    </tr>\n",
       "    <tr>\n",
       "      <th>2</th>\n",
       "      <td>720</td>\n",
       "      <td>Scotland</td>\n",
       "      <td>United Kingdom</td>\n",
       "      <td>2022-09-11 05:20:45</td>\n",
       "      <td>56.4907</td>\n",
       "      <td>-4.2026</td>\n",
       "      <td>2095171</td>\n",
       "      <td>0</td>\n",
       "      <td>15588</td>\n",
       "      <td>0</td>\n",
       "      <td>None</td>\n",
       "      <td>None</td>\n",
       "      <td>Scotland, United Kingdom</td>\n",
       "      <td>Scotland</td>\n",
       "      <td>{\"rings\": [[[-491203.781800002, 7300071.7571],...</td>\n",
       "    </tr>\n",
       "    <tr>\n",
       "      <th>3</th>\n",
       "      <td>723</td>\n",
       "      <td>Wales</td>\n",
       "      <td>United Kingdom</td>\n",
       "      <td>2022-09-11 05:20:45</td>\n",
       "      <td>52.1307</td>\n",
       "      <td>-3.7837</td>\n",
       "      <td>884498</td>\n",
       "      <td>0</td>\n",
       "      <td>10723</td>\n",
       "      <td>0</td>\n",
       "      <td>None</td>\n",
       "      <td>None</td>\n",
       "      <td>Wales, United Kingdom</td>\n",
       "      <td>Wales</td>\n",
       "      <td>{\"rings\": [[[-347426.047800001, 6688819.4126],...</td>\n",
       "    </tr>\n",
       "  </tbody>\n",
       "</table>\n",
       "</div>"
      ],
      "text/plain": [
       "   OBJECTID    Province_State  Country_Region         Last_Update      Lat  \\\n",
       "0       711           England  United Kingdom 2022-09-11 05:20:45  52.3555   \n",
       "1       718  Northern Ireland  United Kingdom 2022-09-11 05:20:45  54.7877   \n",
       "2       720          Scotland  United Kingdom 2022-09-11 05:20:45  56.4907   \n",
       "3       723             Wales  United Kingdom 2022-09-11 05:20:45  52.1307   \n",
       "\n",
       "    Long_  Confirmed  Recovered  Deaths  Active Admin2  FIPS  \\\n",
       "0 -1.1743   19861556          0  174576       0   None  None   \n",
       "1 -6.4923     713294          0    4831       0   None  None   \n",
       "2 -4.2026    2095171          0   15588       0   None  None   \n",
       "3 -3.7837     884498          0   10723       0   None  None   \n",
       "\n",
       "                       Combined_Key              NAME  \\\n",
       "0           England, United Kingdom           England   \n",
       "1  Northern Ireland, United Kingdom  Northern Ireland   \n",
       "2          Scotland, United Kingdom          Scotland   \n",
       "3             Wales, United Kingdom             Wales   \n",
       "\n",
       "                                               SHAPE  \n",
       "0  {\"rings\": [[[-712342.122900002, 6422971.613], ...  \n",
       "1  {\"rings\": [[[-629256.726300001, 7241326.3225],...  \n",
       "2  {\"rings\": [[[-491203.781800002, 7300071.7571],...  \n",
       "3  {\"rings\": [[[-347426.047800001, 6688819.4126],...  "
      ]
     },
     "execution_count": 15,
     "metadata": {},
     "output_type": "execute_result"
    }
   ],
   "source": [
    "country_name = \"United Kingdom\"                                       # set country name\n",
    "UK_df = get_atlas_dataset(\"605d0bb40f094264bcab01ffb3623347\", 1)      # get the Atlas map from GIS for \n",
    "fset_UK = filter_country(df_global, country_name)                     # filter the covid dataset based on the country\n",
    "UK_merged = merge_atlas_and_covid_datasets(fset_UK, UK_df, \"inner\")   # merge the covid dataset with the Atlas map dataset\n",
    "UK_merged.head(5)"
   ]
  },
  {
   "cell_type": "code",
   "execution_count": 16,
   "id": "1996efcd",
   "metadata": {},
   "outputs": [
    {
     "data": {
      "application/vnd.jupyter.widget-view+json": {
       "model_id": "1f8a43cd382e4d039a4fdfea6cfcfbeb",
       "version_major": 2,
       "version_minor": 0
      },
      "text/plain": [
       "MapView(layout=Layout(height='400px', width='100%'), legend=True)"
      ]
     },
     "metadata": {},
     "output_type": "display_data"
    },
    {
     "data": {
      "text/html": [
       "<div class=\"map-static-img-preview-ac03e883-209c-4a41-93fc-47ee1dff0559\"><img src=\"\"></img></div>"
      ],
      "text/plain": [
       "<IPython.core.display.HTML object>"
      ]
     },
     "metadata": {},
     "output_type": "display_data"
    },
    {
     "data": {
      "text/html": [
       "<div class=\"map-html-embed-preview-ac03e883-209c-4a41-93fc-47ee1dff0559\"></div>"
      ],
      "text/plain": [
       "<IPython.core.display.HTML object>"
      ]
     },
     "metadata": {},
     "output_type": "display_data"
    }
   ],
   "source": [
    "# Makes the map\n",
    "make_map(country_name, UK_merged, zoom_lvl=6, legend=True)"
   ]
  },
  {
   "cell_type": "code",
   "execution_count": 17,
   "id": "95e1e608",
   "metadata": {},
   "outputs": [
    {
     "data": {
      "text/plain": [
       "<AxesSubplot:xlabel='Province_State'>"
      ]
     },
     "execution_count": 17,
     "metadata": {},
     "output_type": "execute_result"
    },
    {
     "data": {
      "image/png": "[encoded data removed]",
      "text/plain": [
       "<Figure size 432x288 with 1 Axes>"
      ]
     },
     "metadata": {
      "needs_background": "light"
     },
     "output_type": "display_data"
    }
   ],
   "source": [
    "# Plot the confirmed, deaths, Recovered covid cases for the country\n",
    "plot_cases(UK_merged)"
   ]
  }
 ],
 "metadata": {
  "kernelspec": {
   "display_name": "Python 3 (ipykernel)",
   "language": "python",
   "name": "python3"
  },
  "language_info": {
   "codemirror_mode": {
    "name": "ipython",
    "version": 3
   },
   "file_extension": ".py",
   "mimetype": "text/x-python",
   "name": "python",
   "nbconvert_exporter": "python",
   "pygments_lexer": "ipython3",
   "version": "3.9.12"
  }
 },
 "nbformat": 4,
 "nbformat_minor": 5
}
